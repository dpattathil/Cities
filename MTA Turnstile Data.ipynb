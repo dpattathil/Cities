{
 "cells": [
  {
   "cell_type": "code",
   "execution_count": 1,
   "metadata": {},
   "outputs": [],
   "source": [
    "import pandas as pd\n",
    "from datetime import date, timedelta\n",
    "import urllib.request\n",
    "import shutil\n",
    "import os"
   ]
  },
  {
   "cell_type": "code",
   "execution_count": 8,
   "metadata": {},
   "outputs": [
    {
     "name": "stdout",
     "output_type": "stream",
     "text": [
      "Downloading turnstile_200104.csv\n",
      "Downloading turnstile_200111.csv\n",
      "Downloading turnstile_200118.csv\n",
      "Downloading turnstile_200125.csv\n",
      "Downloading turnstile_200201.csv\n",
      "Downloading turnstile_200208.csv\n",
      "Downloading turnstile_200215.csv\n",
      "Downloading turnstile_200222.csv\n",
      "Downloading turnstile_200229.csv\n",
      "Downloading turnstile_200307.csv\n",
      "Downloading turnstile_200314.csv\n",
      "Downloading turnstile_200321.csv\n",
      "Downloading turnstile_200328.csv\n",
      "Downloading turnstile_200404.csv\n",
      "Downloading turnstile_200411.csv\n",
      "Downloading turnstile_200418.csv\n"
     ]
    }
   ],
   "source": [
    "# Batch download MTA turnstile files\n",
    "start_date = date(2020, 1, 4)\n",
    "end_date = date(2020, 4, 18)\n",
    "while start_date <= end_date:\n",
    "    filename = 'turnstile_'+start_date.strftime('%y%m%d')\n",
    "    url = 'http://web.mta.info/developers/data/nyct/turnstile/'+filename+'.txt'\n",
    "    print('Downloading '+filename+'.csv')\n",
    "    with urllib.request.urlopen(url) as response, open('./data/'+filename+'.csv', 'wb') as out_file:\n",
    "        shutil.copyfileobj(response, out_file)\n",
    "    start_date += timedelta(weeks=1)"
   ]
  },
  {
   "cell_type": "code",
   "execution_count": 2,
   "metadata": {},
   "outputs": [],
   "source": [
    "# Import station data with latitude and longitude\n",
    "pd.options.display.float_format = '{:.6f}'.format\n",
    "geocoded = pd.read_csv('geocoded.csv')"
   ]
  },
  {
   "cell_type": "code",
   "execution_count": 3,
   "metadata": {},
   "outputs": [],
   "source": [
    "def filter_mta(data):\n",
    "    # Filter by regular records, remove PATH and Staten Island\n",
    "    data_filtered = data[(data['DESC']=='REGULAR') | (data['DESC']=='RECOVR AUD')]\n",
    "    data_filtered = data_filtered[(data_filtered['DIVISION']!='PTH') & (data_filtered['DIVISION']!='SRT')]\n",
    "\n",
    "    # Get diff for each row\n",
    "    data_filtered['ENTRIES_DIFF'] = data_filtered.groupby(['UNIT', 'SCP'])['ENTRIES'].diff()\n",
    "    data_filtered['EXITS_DIFF'] = data_filtered.groupby(['UNIT', 'SCP'])['EXITS'].diff()\n",
    "    \n",
    "    # Some turnstiles count backward??\n",
    "    data_filtered = data_filtered[(data_filtered['ENTRIES_DIFF']>=-5000) & (data_filtered['EXITS_DIFF']>=-5000)]\n",
    "    data_filtered['ENTRIES_DIFF'] = data_filtered['ENTRIES_DIFF'].abs()\n",
    "    data_filtered['EXITS_DIFF'] = data_filtered['EXITS_DIFF'].abs()\n",
    "\n",
    "    # Counts occasionally make huge jumps \n",
    "    data_filtered = data_filtered[(data_filtered['ENTRIES_DIFF']<10000) & (data_filtered['EXITS_DIFF']<10000)]\n",
    "\n",
    "    # Remove some columns\n",
    "    data_filtered.drop(columns=['STATION', 'LINENAME', 'DIVISION', 'DESC'], inplace=True)\n",
    "    \n",
    "    return data_filtered"
   ]
  },
  {
   "cell_type": "code",
   "execution_count": 4,
   "metadata": {},
   "outputs": [
    {
     "name": "stdout",
     "output_type": "stream",
     "text": [
      "Cleaning turnstile_200104.csv\n",
      "Cleaning turnstile_200111.csv\n",
      "Cleaning turnstile_200118.csv\n",
      "Cleaning turnstile_200125.csv\n",
      "Cleaning turnstile_200201.csv\n",
      "Cleaning turnstile_200208.csv\n",
      "Cleaning turnstile_200215.csv\n",
      "Cleaning turnstile_200222.csv\n",
      "Cleaning turnstile_200229.csv\n",
      "Cleaning turnstile_200307.csv\n",
      "Cleaning turnstile_200314.csv\n",
      "Cleaning turnstile_200321.csv\n",
      "Cleaning turnstile_200328.csv\n",
      "Cleaning turnstile_200404.csv\n",
      "Cleaning turnstile_200411.csv\n",
      "Cleaning turnstile_200418.csv\n",
      "Cleaning turnstile_200425.csv\n"
     ]
    }
   ],
   "source": [
    "# Batch process\n",
    "directory = os.fsencode('./data')\n",
    "for file in os.listdir(directory):\n",
    "    filename = os.fsdecode(file)\n",
    "    print('Cleaning '+filename)\n",
    "\n",
    "    # Import MTA weekly turnstile data\n",
    "    data = pd.read_csv('./data/'+filename, parse_dates=['DATE'])\n",
    "    data.columns = data.columns.str.strip()\n",
    "    \n",
    "    data_filtered = filter_mta(data)\n",
    "    data_geocoded = pd.merge(data_filtered, geocoded, how='left', left_on=['UNIT'], right_on=['UNIT'])\n",
    "    \n",
    "    # Group and sum \n",
    "    data_cleaned = data_geocoded.groupby(['DATE', 'STATION', 'LATITUDE', 'LONGITUDE']).agg(\n",
    "        {'ENTRIES_DIFF': 'sum', 'EXITS_DIFF': 'sum', 'LINENAME': lambda x: x.iloc[0]})\n",
    "    data_cleaned = data_cleaned.astype({'ENTRIES_DIFF': 'int', 'EXITS_DIFF': 'int'})\n",
    "    \n",
    "    # Export\n",
    "    data_cleaned.to_csv('./cleaned/cleaned_'+filename, float_format='%.6f')"
   ]
  },
  {
   "cell_type": "code",
   "execution_count": null,
   "metadata": {},
   "outputs": [],
   "source": []
  }
 ],
 "metadata": {
  "kernelspec": {
   "display_name": "Python 3",
   "language": "python",
   "name": "python3"
  },
  "language_info": {
   "codemirror_mode": {
    "name": "ipython",
    "version": 3
   },
   "file_extension": ".py",
   "mimetype": "text/x-python",
   "name": "python",
   "nbconvert_exporter": "python",
   "pygments_lexer": "ipython3",
   "version": "3.7.7"
  }
 },
 "nbformat": 4,
 "nbformat_minor": 2
}
